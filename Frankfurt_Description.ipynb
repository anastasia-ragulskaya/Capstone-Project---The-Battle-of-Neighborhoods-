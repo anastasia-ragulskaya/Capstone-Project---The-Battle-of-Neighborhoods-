{
 "cells": [
  {
   "cell_type": "markdown",
   "metadata": {},
   "source": [
    "# Description of the project"
   ]
  },
  {
   "cell_type": "markdown",
   "metadata": {},
   "source": [
    "## Introduction / Business Problem"
   ]
  },
  {
   "cell_type": "markdown",
   "metadata": {},
   "source": [
    "Beer is a major part of German culture. In 2012, Germany ranked third in Europe in terms of per-capita beer consumption, behind the Czech Republic and Austria. Germany is also famous for its beer festivals (e.g. Octoberfest in Munchen or Cannstatter Volksfest in Stuttgart). Thus, taking a glass of beer in the bar the evening seems to be a popular activity in Germany."
   ]
  },
  {
   "cell_type": "markdown",
   "metadata": {},
   "source": [
    "<div class=\"alert alert-block alert-success\">\n",
    "<b>Goal:</b> For this project, I decided to investigate the \"bar\"-business in Frankfurt am Main and find top-5 districts where it may be worth making a new bar.\n",
    "</div>"
   ]
  },
  {
   "cell_type": "markdown",
   "metadata": {},
   "source": [
    "Frankfurt is the most populous city in the German state of Hesse. Frankfurt is a global hub for commerce, culture, education, tourism and transportation, and rated as an \"alpha world city\" according to GaWC. <br>Sounds like a good candidate for the research!"
   ]
  },
  {
   "cell_type": "markdown",
   "metadata": {},
   "source": [
    "The hospitality industry may be interested in the results of this project"
   ]
  },
  {
   "cell_type": "markdown",
   "metadata": {},
   "source": [
    "## Data"
   ]
  },
  {
   "cell_type": "markdown",
   "metadata": {},
   "source": [
    "For this research we need the following data:\n",
    "1. Frankfurt districts (Stadtteile)\n",
    "2. Their longitude and latitude\n",
    "3. Their geometry (optional)\n",
    "4. Information about the population density for each district\n",
    "5. Information about the bars in Frankfurt (amount, longitude, latitude)"
   ]
  },
  {
   "cell_type": "markdown",
   "metadata": {},
   "source": [
    "I will use the following services to exctract the data:"
   ]
  },
  {
   "cell_type": "markdown",
   "metadata": {},
   "source": [
    "1. Parsing Wikipedia to get Frankfurt districts and information about the area and population which is used to calculated the population density (\"https://de.wikipedia.org/wiki/Liste_der_Stadtteile_von_Frankfurt_am_Main\"). \n",
    "2. Python Geocoder is used to get the latitude and longitude for each district. This coordinates will be later used in Foursquare API search/expolore query to find bars for each district.\n",
    "3. Geometry of the districts will be downloaded as the .geojson file (https://offenedaten.frankfurt.de/dataset/85b38876-729c-4a78-910c-a52d5c6df8d2/resource/84dff094-ab75-431f-8c64-39606672f1da/download/ffmstadtteilewahlen.geojson)\n",
    "4. Foursquare search/explore query API is used to find bars and their coordinates for each neighbourhood. The categoryId='4bf58dd8d48988d116941735' ('bars') "
   ]
  },
  {
   "cell_type": "markdown",
   "metadata": {},
   "source": [
    "<div class=\"alert alert-block alert-success\">\n",
    "<b>Plan:</b> Cluster Frankfurt districts based on the amount of bars and population density. Based on the clusterization, define districts-candidates for bars\n",
    "</div>"
   ]
  },
  {
   "cell_type": "markdown",
   "metadata": {},
   "source": [
    "### Imports"
   ]
  },
  {
   "cell_type": "code",
   "execution_count": null,
   "metadata": {},
   "outputs": [],
   "source": [
    "import pandas as pd\n",
    "pd.set_option('display.max_columns', None)\n",
    "pd.set_option('display.max_rows', None)\n",
    "from pandas.io.json import json_normalize\n",
    "import numpy as np\n",
    "import matplotlib.pyplot as plt\n",
    "import seaborn as sns\n",
    "from bs4 import BeautifulSoup\n",
    "import matplotlib.colors as colors\n",
    "import matplotlib.cm as cm\n",
    "import folium # map rendering library\n",
    "from pandas.io.json import json_normalize\n",
    "from geopy.geocoders import Nominatim\n",
    "import requests\n",
    "from sklearn.model_selection import train_test_split\n",
    "from sklearn.preprocessing import LabelEncoder\n",
    "from sklearn.cluster import KMeans"
   ]
  }
 ],
 "metadata": {
  "kernelspec": {
   "display_name": "Python 3",
   "language": "python",
   "name": "python3"
  },
  "language_info": {
   "codemirror_mode": {
    "name": "ipython",
    "version": 3
   },
   "file_extension": ".py",
   "mimetype": "text/x-python",
   "name": "python",
   "nbconvert_exporter": "python",
   "pygments_lexer": "ipython3",
   "version": "3.7.6"
  },
  "toc": {
   "base_numbering": 1,
   "nav_menu": {},
   "number_sections": true,
   "sideBar": true,
   "skip_h1_title": false,
   "title_cell": "Table of Contents",
   "title_sidebar": "Contents",
   "toc_cell": false,
   "toc_position": {},
   "toc_section_display": true,
   "toc_window_display": false
  }
 },
 "nbformat": 4,
 "nbformat_minor": 4
}
